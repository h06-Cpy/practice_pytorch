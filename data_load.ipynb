{
 "cells": [
  {
   "cell_type": "code",
   "execution_count": 1,
   "metadata": {},
   "outputs": [],
   "source": [
    "import torch\n",
    "import torch.nn as nn\n",
    "import torch.nn.functional as F"
   ]
  },
  {
   "cell_type": "code",
   "execution_count": 2,
   "metadata": {},
   "outputs": [],
   "source": [
    "from torch.utils.data import TensorDataset\n",
    "from torch.utils.data import DataLoader"
   ]
  },
  {
   "cell_type": "code",
   "execution_count": 3,
   "metadata": {},
   "outputs": [
    {
     "data": {
      "text/plain": [
       "<torch.utils.data.dataset.TensorDataset at 0x20722512020>"
      ]
     },
     "execution_count": 3,
     "metadata": {},
     "output_type": "execute_result"
    }
   ],
   "source": [
    "x_train  =  torch.FloatTensor([[73,  80,  75], \n",
    "                               [93,  88,  93], \n",
    "                               [89,  91,  90], \n",
    "                               [96,  98,  100],   \n",
    "                               [73,  66,  70]])  \n",
    "y_train  =  torch.FloatTensor([[152],  [185],  [180],  [196],  [142]])\n",
    "\n",
    "dataset = TensorDataset(x_train, y_train)\n",
    "dataset"
   ]
  },
  {
   "cell_type": "code",
   "execution_count": 4,
   "metadata": {},
   "outputs": [
    {
     "data": {
      "text/plain": [
       "<torch.utils.data.dataloader.DataLoader at 0x20748f8ff40>"
      ]
     },
     "execution_count": 4,
     "metadata": {},
     "output_type": "execute_result"
    }
   ],
   "source": [
    "dataloader = DataLoader(dataset, batch_size=2, shuffle=True)\n",
    "dataloader"
   ]
  },
  {
   "cell_type": "code",
   "execution_count": 5,
   "metadata": {},
   "outputs": [],
   "source": [
    "class LinearRegressionModel(nn.Module):\n",
    "    def __init__(self):\n",
    "        super().__init__()\n",
    "        self.linear = nn.Linear(3,1)\n",
    "    \n",
    "    def forward(self, x):\n",
    "        return self.linear(x)"
   ]
  },
  {
   "cell_type": "code",
   "execution_count": 6,
   "metadata": {},
   "outputs": [],
   "source": [
    "model = LinearRegressionModel()\n",
    "optimizer = torch.optim.SGD(model.parameters(), lr=1e-5)\n"
   ]
  },
  {
   "cell_type": "code",
   "execution_count": 8,
   "metadata": {},
   "outputs": [
    {
     "name": "stdout",
     "output_type": "stream",
     "text": [
      "Epoch 0/20 Batch 1/3 cost: 3267.408203\n",
      "Epoch 0/20 Batch 2/3 cost: 419.702850\n",
      "Epoch 0/20 Batch 3/3 cost: 234.882187\n",
      "Epoch 1/20 Batch 1/3 cost: 47.625927\n",
      "Epoch 1/20 Batch 2/3 cost: 64.641289\n",
      "Epoch 1/20 Batch 3/3 cost: 2.518926\n",
      "Epoch 2/20 Batch 1/3 cost: 9.484509\n",
      "Epoch 2/20 Batch 2/3 cost: 4.555073\n",
      "Epoch 2/20 Batch 3/3 cost: 3.463747\n",
      "Epoch 3/20 Batch 1/3 cost: 0.100317\n",
      "Epoch 3/20 Batch 2/3 cost: 7.752583\n",
      "Epoch 3/20 Batch 3/3 cost: 7.803232\n",
      "Epoch 4/20 Batch 1/3 cost: 4.510155\n",
      "Epoch 4/20 Batch 2/3 cost: 4.915846\n",
      "Epoch 4/20 Batch 3/3 cost: 3.505847\n",
      "Epoch 5/20 Batch 1/3 cost: 6.665918\n",
      "Epoch 5/20 Batch 2/3 cost: 3.283393\n",
      "Epoch 5/20 Batch 3/3 cost: 2.169121\n",
      "Epoch 6/20 Batch 1/3 cost: 3.993069\n",
      "Epoch 6/20 Batch 2/3 cost: 5.236970\n",
      "Epoch 6/20 Batch 3/3 cost: 4.690169\n",
      "Epoch 7/20 Batch 1/3 cost: 10.158587\n",
      "Epoch 7/20 Batch 2/3 cost: 3.929673\n",
      "Epoch 7/20 Batch 3/3 cost: 2.935563\n",
      "Epoch 8/20 Batch 1/3 cost: 6.975891\n",
      "Epoch 8/20 Batch 2/3 cost: 3.699074\n",
      "Epoch 8/20 Batch 3/3 cost: 4.077027\n",
      "Epoch 9/20 Batch 1/3 cost: 4.591554\n",
      "Epoch 9/20 Batch 2/3 cost: 6.402772\n",
      "Epoch 9/20 Batch 3/3 cost: 1.562614\n",
      "Epoch 10/20 Batch 1/3 cost: 9.885401\n",
      "Epoch 10/20 Batch 2/3 cost: 5.349833\n",
      "Epoch 10/20 Batch 3/3 cost: 0.778954\n",
      "Epoch 11/20 Batch 1/3 cost: 7.123828\n",
      "Epoch 11/20 Batch 2/3 cost: 3.738713\n",
      "Epoch 11/20 Batch 3/3 cost: 1.560593\n",
      "Epoch 12/20 Batch 1/3 cost: 9.859260\n",
      "Epoch 12/20 Batch 2/3 cost: 5.331680\n",
      "Epoch 12/20 Batch 3/3 cost: 0.778119\n",
      "Epoch 13/20 Batch 1/3 cost: 6.306230\n",
      "Epoch 13/20 Batch 2/3 cost: 4.477612\n",
      "Epoch 13/20 Batch 3/3 cost: 1.738514\n",
      "Epoch 14/20 Batch 1/3 cost: 1.177647\n",
      "Epoch 14/20 Batch 2/3 cost: 5.349234\n",
      "Epoch 14/20 Batch 3/3 cost: 10.080547\n",
      "Epoch 15/20 Batch 1/3 cost: 6.017907\n",
      "Epoch 15/20 Batch 2/3 cost: 5.427033\n",
      "Epoch 15/20 Batch 3/3 cost: 4.407975\n",
      "Epoch 16/20 Batch 1/3 cost: 7.168775\n",
      "Epoch 16/20 Batch 2/3 cost: 5.256063\n",
      "Epoch 16/20 Batch 3/3 cost: 4.072654\n",
      "Epoch 17/20 Batch 1/3 cost: 3.559183\n",
      "Epoch 17/20 Batch 2/3 cost: 6.104436\n",
      "Epoch 17/20 Batch 3/3 cost: 3.836305\n",
      "Epoch 18/20 Batch 1/3 cost: 3.463239\n",
      "Epoch 18/20 Batch 2/3 cost: 6.137693\n",
      "Epoch 18/20 Batch 3/3 cost: 2.258064\n",
      "Epoch 19/20 Batch 1/3 cost: 1.438144\n",
      "Epoch 19/20 Batch 2/3 cost: 12.065152\n",
      "Epoch 19/20 Batch 3/3 cost: 2.959349\n",
      "Epoch 20/20 Batch 1/3 cost: 1.611517\n",
      "Epoch 20/20 Batch 2/3 cost: 5.017413\n",
      "Epoch 20/20 Batch 3/3 cost: 9.602376\n"
     ]
    }
   ],
   "source": [
    "nb_epochs = 20\n",
    "for epoch in range(nb_epochs+1):\n",
    "    for batch_idx, samples in enumerate(dataloader):\n",
    "        x_train, y_train = samples\n",
    "\n",
    "        prediction = model(x_train)\n",
    "\n",
    "        cost = F.mse_loss(prediction, y_train)\n",
    "\n",
    "        optimizer.zero_grad()\n",
    "        cost.backward()\n",
    "        optimizer.step()\n",
    "\n",
    "        print(f'Epoch {epoch}/{nb_epochs} Batch {batch_idx+1}/{len(dataloader)} cost: {cost.item():.6f}')"
   ]
  },
  {
   "cell_type": "code",
   "execution_count": 9,
   "metadata": {},
   "outputs": [
    {
     "name": "stdout",
     "output_type": "stream",
     "text": [
      "훈련 후 입력이 73, 80, 75일 때의 예측값 : tensor([[154.7367]], grad_fn=<AddmmBackward0>)\n"
     ]
    }
   ],
   "source": [
    "new_var =  torch.FloatTensor([[73, 80, 75]]) \n",
    "# 입력한 값 [73, 80, 75]에 대해서 예측값 y를 리턴받아서 pred_y에 저장\n",
    "pred_y = model(new_var) \n",
    "print(\"훈련 후 입력이 73, 80, 75일 때의 예측값 :\", pred_y) "
   ]
  },
  {
   "cell_type": "code",
   "execution_count": 11,
   "metadata": {},
   "outputs": [],
   "source": [
    "# custom dataset\n",
    "from torch.utils.data import Dataset\n",
    "\n",
    "class CustomDataset(Dataset):\n",
    "    def __init__(self):\n",
    "        self.x_data = [[73, 80, 75],\n",
    "                   [93, 88, 93],\n",
    "                   [89, 91, 90],\n",
    "                   [96, 98, 100],\n",
    "                   [73, 66, 70]]\n",
    "        self.y_data = [[152], [185], [180], [196], [142]]\n",
    "    \n",
    "    def __len__(self):\n",
    "        return len(self.x_data)\n",
    "\n",
    "    def __getitem__(self, idx):\n",
    "        x = torch.FloatTensor(self.x_data[idx])\n",
    "        y = torch.FloatTensor(self.y_data[idx])\n",
    "        return x,y"
   ]
  },
  {
   "cell_type": "code",
   "execution_count": 13,
   "metadata": {},
   "outputs": [
    {
     "name": "stdout",
     "output_type": "stream",
     "text": [
      "Epoch    0/20 Batch 1/3 Cost: 36027.457031\n",
      "Epoch    0/20 Batch 2/3 Cost: 5979.622070\n",
      "Epoch    0/20 Batch 3/3 Cost: 4888.085938\n",
      "Epoch    1/20 Batch 1/3 Cost: 592.194092\n",
      "Epoch    1/20 Batch 2/3 Cost: 290.735687\n",
      "Epoch    1/20 Batch 3/3 Cost: 91.264351\n",
      "Epoch    2/20 Batch 1/3 Cost: 23.291889\n",
      "Epoch    2/20 Batch 2/3 Cost: 7.735362\n",
      "Epoch    2/20 Batch 3/3 Cost: 0.450084\n",
      "Epoch    3/20 Batch 1/3 Cost: 0.252258\n",
      "Epoch    3/20 Batch 2/3 Cost: 4.139248\n",
      "Epoch    3/20 Batch 3/3 Cost: 5.870062\n",
      "Epoch    4/20 Batch 1/3 Cost: 3.566386\n",
      "Epoch    4/20 Batch 2/3 Cost: 2.525238\n",
      "Epoch    4/20 Batch 3/3 Cost: 2.969069\n",
      "Epoch    5/20 Batch 1/3 Cost: 2.133942\n",
      "Epoch    5/20 Batch 2/3 Cost: 4.156444\n",
      "Epoch    5/20 Batch 3/3 Cost: 3.863730\n",
      "Epoch    6/20 Batch 1/3 Cost: 1.458022\n",
      "Epoch    6/20 Batch 2/3 Cost: 5.324832\n",
      "Epoch    6/20 Batch 3/3 Cost: 2.462767\n",
      "Epoch    7/20 Batch 1/3 Cost: 0.526545\n",
      "Epoch    7/20 Batch 2/3 Cost: 6.497492\n",
      "Epoch    7/20 Batch 3/3 Cost: 2.700821\n",
      "Epoch    8/20 Batch 1/3 Cost: 2.800004\n",
      "Epoch    8/20 Batch 2/3 Cost: 3.094672\n",
      "Epoch    8/20 Batch 3/3 Cost: 0.399795\n",
      "Epoch    9/20 Batch 1/3 Cost: 2.558611\n",
      "Epoch    9/20 Batch 2/3 Cost: 2.366524\n",
      "Epoch    9/20 Batch 3/3 Cost: 2.481865\n",
      "Epoch   10/20 Batch 1/3 Cost: 3.377259\n",
      "Epoch   10/20 Batch 2/3 Cost: 2.132413\n",
      "Epoch   10/20 Batch 3/3 Cost: 2.032809\n",
      "Epoch   11/20 Batch 1/3 Cost: 2.916672\n",
      "Epoch   11/20 Batch 2/3 Cost: 2.679311\n",
      "Epoch   11/20 Batch 3/3 Cost: 1.844956\n",
      "Epoch   12/20 Batch 1/3 Cost: 3.441948\n",
      "Epoch   12/20 Batch 2/3 Cost: 2.214994\n",
      "Epoch   12/20 Batch 3/3 Cost: 1.964685\n",
      "Epoch   13/20 Batch 1/3 Cost: 3.190415\n",
      "Epoch   13/20 Batch 2/3 Cost: 2.829873\n",
      "Epoch   13/20 Batch 3/3 Cost: 0.352593\n",
      "Epoch   14/20 Batch 1/3 Cost: 2.561304\n",
      "Epoch   14/20 Batch 2/3 Cost: 2.357604\n",
      "Epoch   14/20 Batch 3/3 Cost: 2.443171\n",
      "Epoch   15/20 Batch 1/3 Cost: 2.885331\n",
      "Epoch   15/20 Batch 2/3 Cost: 1.004529\n",
      "Epoch   15/20 Batch 3/3 Cost: 5.750746\n",
      "Epoch   16/20 Batch 1/3 Cost: 2.067771\n",
      "Epoch   16/20 Batch 2/3 Cost: 4.438629\n",
      "Epoch   16/20 Batch 3/3 Cost: 3.704932\n",
      "Epoch   17/20 Batch 1/3 Cost: 2.919558\n",
      "Epoch   17/20 Batch 2/3 Cost: 2.661925\n",
      "Epoch   17/20 Batch 3/3 Cost: 0.484415\n",
      "Epoch   18/20 Batch 1/3 Cost: 2.923080\n",
      "Epoch   18/20 Batch 2/3 Cost: 1.021791\n",
      "Epoch   18/20 Batch 3/3 Cost: 5.229962\n",
      "Epoch   19/20 Batch 1/3 Cost: 1.465028\n",
      "Epoch   19/20 Batch 2/3 Cost: 3.477580\n",
      "Epoch   19/20 Batch 3/3 Cost: 4.838510\n",
      "Epoch   20/20 Batch 1/3 Cost: 2.378285\n",
      "Epoch   20/20 Batch 2/3 Cost: 4.255443\n",
      "Epoch   20/20 Batch 3/3 Cost: 4.027207\n"
     ]
    }
   ],
   "source": [
    "dataset = CustomDataset()\n",
    "dataloader = DataLoader(dataset, batch_size=2, shuffle=True)\n",
    "\n",
    "model = LinearRegressionModel()\n",
    "optimizer = torch.optim.SGD(model.parameters(), lr=1e-5)\n",
    "\n",
    "nb_epochs = 20\n",
    "for epoch in range(nb_epochs + 1):\n",
    "  for batch_idx, samples in enumerate(dataloader):\n",
    "    # print(batch_idx)\n",
    "    # print(samples)\n",
    "    x_train, y_train = samples\n",
    "    # H(x) 계산\n",
    "    prediction = model(x_train)\n",
    "\n",
    "    # cost 계산\n",
    "    cost = F.mse_loss(prediction, y_train)\n",
    "\n",
    "    # cost로 H(x) 계산\n",
    "    optimizer.zero_grad()\n",
    "    cost.backward()\n",
    "    optimizer.step()\n",
    "\n",
    "    print('Epoch {:4d}/{} Batch {}/{} Cost: {:.6f}'.format(\n",
    "        epoch, nb_epochs, batch_idx+1, len(dataloader),\n",
    "        cost.item()\n",
    "        ))"
   ]
  },
  {
   "cell_type": "code",
   "execution_count": 14,
   "metadata": {},
   "outputs": [
    {
     "data": {
      "text/plain": [
       "tensor([[153.3102]], grad_fn=<AddmmBackward0>)"
      ]
     },
     "execution_count": 14,
     "metadata": {},
     "output_type": "execute_result"
    }
   ],
   "source": [
    "new_var =  torch.FloatTensor([[73, 80, 75]]) \n",
    "pred_y = model(new_var)\n",
    "pred_y"
   ]
  },
  {
   "cell_type": "code",
   "execution_count": null,
   "metadata": {},
   "outputs": [],
   "source": []
  }
 ],
 "metadata": {
  "kernelspec": {
   "display_name": "base",
   "language": "python",
   "name": "python3"
  },
  "language_info": {
   "codemirror_mode": {
    "name": "ipython",
    "version": 3
   },
   "file_extension": ".py",
   "mimetype": "text/x-python",
   "name": "python",
   "nbconvert_exporter": "python",
   "pygments_lexer": "ipython3",
   "version": "3.10.12"
  },
  "orig_nbformat": 4
 },
 "nbformat": 4,
 "nbformat_minor": 2
}
